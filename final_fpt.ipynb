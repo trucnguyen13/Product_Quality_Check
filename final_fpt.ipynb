{
 "cells": [
  {
   "cell_type": "markdown",
   "id": "cae33066",
   "metadata": {},
   "source": [
    "# Product quality check"
   ]
  },
  {
   "cell_type": "markdown",
   "id": "cdfddef0",
   "metadata": {},
   "source": [
    "### Câu hỏi: \n",
    "\n",
    "### Giới thiệu thành viên\n",
    "\n",
    "1. Nguyễn Đức Trực\n",
    "2. \n",
    "3.\n"
   ]
  },
  {
   "cell_type": "markdown",
   "id": "8194e1ce",
   "metadata": {},
   "source": [
    "### Ý nghĩa của việc trả lời câu hỏi\n"
   ]
  },
  {
   "cell_type": "markdown",
   "id": "517305a1",
   "metadata": {},
   "source": [
    "## Import"
   ]
  },
  {
   "cell_type": "code",
   "execution_count": 70,
   "id": "57de2ae8",
   "metadata": {},
   "outputs": [],
   "source": [
    "%matplotlib inline\n",
    "import matplotlib.pyplot as plt\n",
    "import seaborn as sns # seaborn là thư viện được xây trên matplotlib, giúp việc visualization đỡ khổ hơn\n",
    "import pandas as pd\n",
    "import numpy as np\n",
    "\n",
    "from sklearn.model_selection import train_test_split\n",
    "from sklearn.preprocessing import OneHotEncoder, StandardScaler\n",
    "from sklearn.impute import SimpleImputer\n",
    "from sklearn.base import BaseEstimator, TransformerMixin\n",
    "from sklearn.pipeline import Pipeline, make_pipeline\n",
    "from sklearn.compose import ColumnTransformer, make_column_transformer\n",
    "from sklearn.neural_network import MLPClassifier\n",
    "from sklearn import set_config\n",
    "import lightgbm as lgb\n",
    "from sklearn.metrics import f1_score\n",
    "from sklearn.model_selection import GridSearchCV\n",
    "set_config(display='diagram') # Để trực quan hóa pipeline\n",
    "\n",
    "# You can also import other things ...\n",
    "# YOUR CODE HERE (OPTION)"
   ]
  },
  {
   "cell_type": "code",
   "execution_count": 2,
   "id": "7336c8d9",
   "metadata": {},
   "outputs": [
    {
     "data": {
      "text/plain": [
       "'1.0.1'"
      ]
     },
     "execution_count": 2,
     "metadata": {},
     "output_type": "execute_result"
    }
   ],
   "source": [
    "import sklearn\n",
    "sklearn.__version__"
   ]
  },
  {
   "cell_type": "markdown",
   "id": "b72f2b1e",
   "metadata": {},
   "source": [
    "## Phần 1: Khám phá dữ liệu "
   ]
  },
  {
   "cell_type": "code",
   "execution_count": 3,
   "id": "038b4dfc",
   "metadata": {},
   "outputs": [
    {
     "data": {
      "text/html": [
       "<div>\n",
       "<style scoped>\n",
       "    .dataframe tbody tr th:only-of-type {\n",
       "        vertical-align: middle;\n",
       "    }\n",
       "\n",
       "    .dataframe tbody tr th {\n",
       "        vertical-align: top;\n",
       "    }\n",
       "\n",
       "    .dataframe thead th {\n",
       "        text-align: right;\n",
       "    }\n",
       "</style>\n",
       "<table border=\"1\" class=\"dataframe\">\n",
       "  <thead>\n",
       "    <tr style=\"text-align: right;\">\n",
       "      <th></th>\n",
       "      <th>hashed_factory_id</th>\n",
       "      <th>country</th>\n",
       "      <th>hashed_type_of_inspection</th>\n",
       "      <th>style_number</th>\n",
       "      <th>item_number</th>\n",
       "      <th>brand_number</th>\n",
       "      <th>factory_inspection_fail_rate_30</th>\n",
       "      <th>factory_inspection_fail_rate_60</th>\n",
       "      <th>factory_inspection_fail_rate_90</th>\n",
       "      <th>factory_inspection_fail_rate_120</th>\n",
       "      <th>...</th>\n",
       "      <th>factory_product_measurement_major_defect_rate_60</th>\n",
       "      <th>factory_product_measurement_major_defect_rate_90</th>\n",
       "      <th>factory_product_measurement_major_defect_rate_120</th>\n",
       "      <th>factory_product_measurement_major_defect_rate_150</th>\n",
       "      <th>factory_product_measurement_minor_defect_rate_30</th>\n",
       "      <th>factory_product_measurement_minor_defect_rate_60</th>\n",
       "      <th>factory_product_measurement_minor_defect_rate_90</th>\n",
       "      <th>factory_product_measurement_minor_defect_rate_120</th>\n",
       "      <th>factory_product_measurement_minor_defect_rate_150</th>\n",
       "      <th>label</th>\n",
       "    </tr>\n",
       "  </thead>\n",
       "  <tbody>\n",
       "    <tr>\n",
       "      <th>0</th>\n",
       "      <td>009f006e3799f9fe96a0c95e944df3e669f02d4e</td>\n",
       "      <td>Vietnam</td>\n",
       "      <td>e06d28d1365467625ebfa999328501705a3398bb</td>\n",
       "      <td>1</td>\n",
       "      <td>8</td>\n",
       "      <td>1.0</td>\n",
       "      <td>0.0</td>\n",
       "      <td>0.032258</td>\n",
       "      <td>0.028571</td>\n",
       "      <td>0.027778</td>\n",
       "      <td>...</td>\n",
       "      <td>0.0</td>\n",
       "      <td>0.0</td>\n",
       "      <td>0.0</td>\n",
       "      <td>0.0</td>\n",
       "      <td>0.0</td>\n",
       "      <td>0.0</td>\n",
       "      <td>0.0</td>\n",
       "      <td>0.0</td>\n",
       "      <td>0.0</td>\n",
       "      <td>0</td>\n",
       "    </tr>\n",
       "    <tr>\n",
       "      <th>1</th>\n",
       "      <td>a9f2640fbd054cb52bf9411b7a42f668a9613197</td>\n",
       "      <td>Vietnam</td>\n",
       "      <td>e06d28d1365467625ebfa999328501705a3398bb</td>\n",
       "      <td>1</td>\n",
       "      <td>5</td>\n",
       "      <td>1.0</td>\n",
       "      <td>0.0</td>\n",
       "      <td>0.200000</td>\n",
       "      <td>0.035714</td>\n",
       "      <td>0.020408</td>\n",
       "      <td>...</td>\n",
       "      <td>0.0</td>\n",
       "      <td>0.0</td>\n",
       "      <td>0.0</td>\n",
       "      <td>0.0</td>\n",
       "      <td>0.0</td>\n",
       "      <td>0.0</td>\n",
       "      <td>0.0</td>\n",
       "      <td>0.0</td>\n",
       "      <td>0.0</td>\n",
       "      <td>0</td>\n",
       "    </tr>\n",
       "    <tr>\n",
       "      <th>2</th>\n",
       "      <td>c0bffcf0318c483b2dbb1c56bed6efa58f9717bd</td>\n",
       "      <td>Pakistan</td>\n",
       "      <td>e06d28d1365467625ebfa999328501705a3398bb</td>\n",
       "      <td>1</td>\n",
       "      <td>8</td>\n",
       "      <td>NaN</td>\n",
       "      <td>0.0</td>\n",
       "      <td>0.000000</td>\n",
       "      <td>0.000000</td>\n",
       "      <td>0.000000</td>\n",
       "      <td>...</td>\n",
       "      <td>0.0</td>\n",
       "      <td>0.0</td>\n",
       "      <td>0.0</td>\n",
       "      <td>0.0</td>\n",
       "      <td>0.0</td>\n",
       "      <td>0.0</td>\n",
       "      <td>0.0</td>\n",
       "      <td>0.0</td>\n",
       "      <td>0.0</td>\n",
       "      <td>0</td>\n",
       "    </tr>\n",
       "    <tr>\n",
       "      <th>3</th>\n",
       "      <td>c96f3f1c47dca83af551893a28c3409cb4afd31d</td>\n",
       "      <td>Guatemala</td>\n",
       "      <td>e06d28d1365467625ebfa999328501705a3398bb</td>\n",
       "      <td>2</td>\n",
       "      <td>12</td>\n",
       "      <td>1.0</td>\n",
       "      <td>0.0</td>\n",
       "      <td>0.000000</td>\n",
       "      <td>0.000000</td>\n",
       "      <td>0.000000</td>\n",
       "      <td>...</td>\n",
       "      <td>0.0</td>\n",
       "      <td>0.0</td>\n",
       "      <td>0.0</td>\n",
       "      <td>0.0</td>\n",
       "      <td>0.0</td>\n",
       "      <td>0.0</td>\n",
       "      <td>0.0</td>\n",
       "      <td>0.0</td>\n",
       "      <td>0.0</td>\n",
       "      <td>0</td>\n",
       "    </tr>\n",
       "    <tr>\n",
       "      <th>4</th>\n",
       "      <td>63ffdba896c8bb150eca939d1eb7e3bd4e732ed4</td>\n",
       "      <td>Pakistan</td>\n",
       "      <td>e06d28d1365467625ebfa999328501705a3398bb</td>\n",
       "      <td>1</td>\n",
       "      <td>2</td>\n",
       "      <td>1.0</td>\n",
       "      <td>0.0</td>\n",
       "      <td>0.000000</td>\n",
       "      <td>0.000000</td>\n",
       "      <td>0.100000</td>\n",
       "      <td>...</td>\n",
       "      <td>0.0</td>\n",
       "      <td>0.0</td>\n",
       "      <td>0.0</td>\n",
       "      <td>0.0</td>\n",
       "      <td>0.0</td>\n",
       "      <td>0.0</td>\n",
       "      <td>0.0</td>\n",
       "      <td>0.0</td>\n",
       "      <td>0.0</td>\n",
       "      <td>0</td>\n",
       "    </tr>\n",
       "  </tbody>\n",
       "</table>\n",
       "<p>5 rows × 155 columns</p>\n",
       "</div>"
      ],
      "text/plain": [
       "                          hashed_factory_id    country  \\\n",
       "0  009f006e3799f9fe96a0c95e944df3e669f02d4e    Vietnam   \n",
       "1  a9f2640fbd054cb52bf9411b7a42f668a9613197    Vietnam   \n",
       "2  c0bffcf0318c483b2dbb1c56bed6efa58f9717bd   Pakistan   \n",
       "3  c96f3f1c47dca83af551893a28c3409cb4afd31d  Guatemala   \n",
       "4  63ffdba896c8bb150eca939d1eb7e3bd4e732ed4   Pakistan   \n",
       "\n",
       "                  hashed_type_of_inspection style_number item_number  \\\n",
       "0  e06d28d1365467625ebfa999328501705a3398bb            1           8   \n",
       "1  e06d28d1365467625ebfa999328501705a3398bb            1           5   \n",
       "2  e06d28d1365467625ebfa999328501705a3398bb            1           8   \n",
       "3  e06d28d1365467625ebfa999328501705a3398bb            2          12   \n",
       "4  e06d28d1365467625ebfa999328501705a3398bb            1           2   \n",
       "\n",
       "  brand_number  factory_inspection_fail_rate_30  \\\n",
       "0          1.0                              0.0   \n",
       "1          1.0                              0.0   \n",
       "2          NaN                              0.0   \n",
       "3          1.0                              0.0   \n",
       "4          1.0                              0.0   \n",
       "\n",
       "   factory_inspection_fail_rate_60  factory_inspection_fail_rate_90  \\\n",
       "0                         0.032258                         0.028571   \n",
       "1                         0.200000                         0.035714   \n",
       "2                         0.000000                         0.000000   \n",
       "3                         0.000000                         0.000000   \n",
       "4                         0.000000                         0.000000   \n",
       "\n",
       "   factory_inspection_fail_rate_120  ...  \\\n",
       "0                          0.027778  ...   \n",
       "1                          0.020408  ...   \n",
       "2                          0.000000  ...   \n",
       "3                          0.000000  ...   \n",
       "4                          0.100000  ...   \n",
       "\n",
       "   factory_product_measurement_major_defect_rate_60  \\\n",
       "0                                               0.0   \n",
       "1                                               0.0   \n",
       "2                                               0.0   \n",
       "3                                               0.0   \n",
       "4                                               0.0   \n",
       "\n",
       "  factory_product_measurement_major_defect_rate_90  \\\n",
       "0                                              0.0   \n",
       "1                                              0.0   \n",
       "2                                              0.0   \n",
       "3                                              0.0   \n",
       "4                                              0.0   \n",
       "\n",
       "  factory_product_measurement_major_defect_rate_120  \\\n",
       "0                                               0.0   \n",
       "1                                               0.0   \n",
       "2                                               0.0   \n",
       "3                                               0.0   \n",
       "4                                               0.0   \n",
       "\n",
       "  factory_product_measurement_major_defect_rate_150  \\\n",
       "0                                               0.0   \n",
       "1                                               0.0   \n",
       "2                                               0.0   \n",
       "3                                               0.0   \n",
       "4                                               0.0   \n",
       "\n",
       "   factory_product_measurement_minor_defect_rate_30  \\\n",
       "0                                               0.0   \n",
       "1                                               0.0   \n",
       "2                                               0.0   \n",
       "3                                               0.0   \n",
       "4                                               0.0   \n",
       "\n",
       "   factory_product_measurement_minor_defect_rate_60  \\\n",
       "0                                               0.0   \n",
       "1                                               0.0   \n",
       "2                                               0.0   \n",
       "3                                               0.0   \n",
       "4                                               0.0   \n",
       "\n",
       "   factory_product_measurement_minor_defect_rate_90  \\\n",
       "0                                               0.0   \n",
       "1                                               0.0   \n",
       "2                                               0.0   \n",
       "3                                               0.0   \n",
       "4                                               0.0   \n",
       "\n",
       "   factory_product_measurement_minor_defect_rate_120  \\\n",
       "0                                                0.0   \n",
       "1                                                0.0   \n",
       "2                                                0.0   \n",
       "3                                                0.0   \n",
       "4                                                0.0   \n",
       "\n",
       "   factory_product_measurement_minor_defect_rate_150  label  \n",
       "0                                                0.0      0  \n",
       "1                                                0.0      0  \n",
       "2                                                0.0      0  \n",
       "3                                                0.0      0  \n",
       "4                                                0.0      0  \n",
       "\n",
       "[5 rows x 155 columns]"
      ]
     },
     "execution_count": 3,
     "metadata": {},
     "output_type": "execute_result"
    }
   ],
   "source": [
    "data_df = pd.read_csv('practice_data.csv', index_col=0).reset_index(drop=True)\n",
    "data_df.head(5)"
   ]
  },
  {
   "cell_type": "markdown",
   "id": "112a621a",
   "metadata": {},
   "source": [
    "### Dữ liệu có bao nhiêu dòng và bao nhiêu cột?"
   ]
  },
  {
   "cell_type": "code",
   "execution_count": 4,
   "id": "b02f00a6",
   "metadata": {},
   "outputs": [
    {
     "data": {
      "text/plain": [
       "(13293, 155)"
      ]
     },
     "execution_count": 4,
     "metadata": {},
     "output_type": "execute_result"
    }
   ],
   "source": [
    "data_df.shape"
   ]
  },
  {
   "cell_type": "markdown",
   "id": "842e8294",
   "metadata": {},
   "source": [
    "### Mỗi dòng có ý nghĩa gì? Có vấn đề các dòng có ý nghĩa khác nhau không?"
   ]
  },
  {
   "cell_type": "markdown",
   "id": "0be69bcd",
   "metadata": {},
   "source": [
    "Quan sát sơ bộ dữ liệu ta thấy mỗi dòng chứa thông tin của một mã hàng, và có vẻ không có vấn đề các dòng có ý nghĩa khác nhau."
   ]
  },
  {
   "cell_type": "markdown",
   "id": "71db81e2",
   "metadata": {},
   "source": [
    "### Dữ liệu có các dòng bị lặp không?"
   ]
  },
  {
   "cell_type": "code",
   "execution_count": 6,
   "id": "7fe92d7c",
   "metadata": {},
   "outputs": [
    {
     "data": {
      "text/plain": [
       "0"
      ]
     },
     "execution_count": 6,
     "metadata": {},
     "output_type": "execute_result"
    }
   ],
   "source": [
    "data_df.index.duplicated().sum()"
   ]
  },
  {
   "cell_type": "markdown",
   "id": "3f6ca627",
   "metadata": {},
   "source": [
    "### Mỗi cột có ý nghĩa gì?"
   ]
  },
  {
   "cell_type": "markdown",
   "id": "770b0951",
   "metadata": {},
   "source": [
    "## Khám phá dữ liệu (để biết cách tách các tập)\n"
   ]
  },
  {
   "cell_type": "code",
   "execution_count": 7,
   "id": "6a4fceaf",
   "metadata": {},
   "outputs": [
    {
     "data": {
      "text/plain": [
       "dtype('int64')"
      ]
     },
     "execution_count": 7,
     "metadata": {},
     "output_type": "execute_result"
    }
   ],
   "source": [
    "# Cột output hiện có kiểu dữ liệu gì?\n",
    "data_df['label'].dtype"
   ]
  },
  {
   "cell_type": "code",
   "execution_count": 8,
   "id": "2d16cebd",
   "metadata": {},
   "outputs": [
    {
     "data": {
      "text/plain": [
       "0"
      ]
     },
     "execution_count": 8,
     "metadata": {},
     "output_type": "execute_result"
    }
   ],
   "source": [
    "# Cột output có giá trị thiếu không?\n",
    "data_df['label'].isna().sum()"
   ]
  },
  {
   "cell_type": "code",
   "execution_count": 9,
   "id": "d63ca5b3",
   "metadata": {},
   "outputs": [
    {
     "data": {
      "text/plain": [
       "0    95.095163\n",
       "1     4.904837\n",
       "Name: label, dtype: float64"
      ]
     },
     "execution_count": 9,
     "metadata": {},
     "output_type": "execute_result"
    }
   ],
   "source": [
    "# Tỉ lệ các lớp trong cột output?\n",
    "data_df['label'].value_counts(normalize=True) * 100"
   ]
  },
  {
   "cell_type": "markdown",
   "id": "3a2a328b",
   "metadata": {},
   "source": [
    "OK, như vậy dữ liệu mất cân bằng khá nặng"
   ]
  },
  {
   "cell_type": "markdown",
   "id": "59f287bd",
   "metadata": {},
   "source": [
    "## Phần 2: Tiền xử lý (tách các tập)"
   ]
  },
  {
   "cell_type": "markdown",
   "id": "388184fd",
   "metadata": {},
   "source": [
    "### Bây giờ ta sẽ thực hiện bước tiền xử lý là tách tập train và tập test ra theo tỉ lệ: 80%:20%."
   ]
  },
  {
   "cell_type": "code",
   "execution_count": 38,
   "id": "d60af532",
   "metadata": {},
   "outputs": [],
   "source": [
    "# Tách X và y\n",
    "y_sr = data_df[\"label\"] # sr là viết tắt của series\n",
    "X_df = data_df.drop(\"label\", axis=1)"
   ]
  },
  {
   "cell_type": "code",
   "execution_count": 39,
   "id": "7fdea452",
   "metadata": {},
   "outputs": [],
   "source": [
    "# train /  test\n",
    "X_df, test_df, y_sr, test_sr = train_test_split(X_df, y_sr, test_size=0.2, \n",
    "                                                              stratify=y_sr, random_state=15)"
   ]
  },
  {
   "cell_type": "code",
   "execution_count": 40,
   "id": "dfbb7b10",
   "metadata": {},
   "outputs": [
    {
     "data": {
      "text/plain": [
       "((10634, 154), (2659, 154))"
      ]
     },
     "execution_count": 40,
     "metadata": {},
     "output_type": "execute_result"
    }
   ],
   "source": [
    "X_df.shape,  test_df.shape"
   ]
  },
  {
   "cell_type": "code",
   "execution_count": 41,
   "id": "f0140254",
   "metadata": {},
   "outputs": [
    {
     "data": {
      "text/plain": [
       "((10634,), (2659,))"
      ]
     },
     "execution_count": 41,
     "metadata": {},
     "output_type": "execute_result"
    }
   ],
   "source": [
    "y_sr.shape, test_sr.shape"
   ]
  },
  {
   "cell_type": "markdown",
   "id": "0d2e5cf8",
   "metadata": {},
   "source": [
    "## Phần 3: Khám phá dữ liệu (tập huấn luyện)"
   ]
  },
  {
   "cell_type": "markdown",
   "id": "15de261d",
   "metadata": {},
   "source": [
    "### Mỗi cột input hiện đang có kiểu dữ liệu gì? Có cột nào có kiểu dữ liệu chưa phù hợp để có thể xử lý tiếp không?"
   ]
  },
  {
   "cell_type": "code",
   "execution_count": null,
   "id": "051a6dea",
   "metadata": {},
   "outputs": [],
   "source": []
  },
  {
   "cell_type": "code",
   "execution_count": 14,
   "id": "639bebaf",
   "metadata": {},
   "outputs": [
    {
     "data": {
      "text/plain": [
       "hashed_factory_id                                     object\n",
       "country                                               object\n",
       "hashed_type_of_inspection                             object\n",
       "style_number                                          object\n",
       "item_number                                           object\n",
       "                                                      ...   \n",
       "factory_product_measurement_minor_defect_rate_30     float64\n",
       "factory_product_measurement_minor_defect_rate_60     float64\n",
       "factory_product_measurement_minor_defect_rate_90     float64\n",
       "factory_product_measurement_minor_defect_rate_120    float64\n",
       "factory_product_measurement_minor_defect_rate_150    float64\n",
       "Length: 154, dtype: object"
      ]
     },
     "execution_count": 14,
     "metadata": {},
     "output_type": "execute_result"
    }
   ],
   "source": [
    "X_df.dtypes"
   ]
  },
  {
   "cell_type": "code",
   "execution_count": 15,
   "id": "2dfd3001",
   "metadata": {},
   "outputs": [
    {
     "data": {
      "text/plain": [
       "(hashed_factory_id            object\n",
       " country                      object\n",
       " hashed_type_of_inspection    object\n",
       " style_number                 object\n",
       " item_number                  object\n",
       " brand_number                 object\n",
       " hashed_product_line          object\n",
       " hashed_product_category      object\n",
       " hashed_product_id            object\n",
       " dtype: object,\n",
       " (9,))"
      ]
     },
     "execution_count": 15,
     "metadata": {},
     "output_type": "execute_result"
    }
   ],
   "source": [
    "x = data_df.dtypes[data_df.dtypes == object]\n",
    "x, x.shape"
   ]
  },
  {
   "cell_type": "code",
   "execution_count": 16,
   "id": "346ffb02",
   "metadata": {},
   "outputs": [
    {
     "data": {
      "text/plain": [
       "(factory_inspection_fail_rate_30                      float64\n",
       " factory_inspection_fail_rate_60                      float64\n",
       " factory_inspection_fail_rate_90                      float64\n",
       " factory_inspection_fail_rate_120                     float64\n",
       " factory_inspection_fail_rate_150                     float64\n",
       "                                                       ...   \n",
       " factory_product_measurement_minor_defect_rate_30     float64\n",
       " factory_product_measurement_minor_defect_rate_60     float64\n",
       " factory_product_measurement_minor_defect_rate_90     float64\n",
       " factory_product_measurement_minor_defect_rate_120    float64\n",
       " factory_product_measurement_minor_defect_rate_150    float64\n",
       " Length: 145, dtype: object,\n",
       " (145,))"
      ]
     },
     "execution_count": 16,
     "metadata": {},
     "output_type": "execute_result"
    }
   ],
   "source": [
    "x = data_df.dtypes[data_df.dtypes == np.number]\n",
    "x, x.shape"
   ]
  },
  {
   "cell_type": "markdown",
   "id": "ed35bbb2",
   "metadata": {},
   "source": [
    " * Nhận xét về tập dữ liệu\n",
    "   - Dữ liệu có 154 thuộc tính, gồm 9 cột object và 145 cột float\n",
    "   - Thuộc tính có vẻ kiểu dữ liệu phù hợp."
   ]
  },
  {
   "cell_type": "markdown",
   "id": "680eab83",
   "metadata": {},
   "source": [
    "### Với mỗi cột input có kiểu dữ liệu dạng số, các giá trị được phân bố như thế nào?"
   ]
  },
  {
   "cell_type": "markdown",
   "id": "e3a959b0",
   "metadata": {},
   "source": [
    "Trong `X_df`, có 145/154 cột có dtype không phải là object:"
   ]
  },
  {
   "cell_type": "code",
   "execution_count": 18,
   "id": "beda3c71",
   "metadata": {},
   "outputs": [
    {
     "data": {
      "text/plain": [
       "factory_inspection_fail_rate_30                      float64\n",
       "factory_inspection_fail_rate_60                      float64\n",
       "factory_inspection_fail_rate_90                      float64\n",
       "factory_inspection_fail_rate_120                     float64\n",
       "factory_inspection_fail_rate_150                     float64\n",
       "                                                      ...   \n",
       "factory_product_measurement_minor_defect_rate_30     float64\n",
       "factory_product_measurement_minor_defect_rate_60     float64\n",
       "factory_product_measurement_minor_defect_rate_90     float64\n",
       "factory_product_measurement_minor_defect_rate_120    float64\n",
       "factory_product_measurement_minor_defect_rate_150    float64\n",
       "Length: 145, dtype: object"
      ]
     },
     "execution_count": 18,
     "metadata": {},
     "output_type": "execute_result"
    }
   ],
   "source": [
    "X_df.dtypes[X_df.dtypes != object]"
   ]
  },
  {
   "cell_type": "code",
   "execution_count": 21,
   "id": "3acf0d68",
   "metadata": {},
   "outputs": [
    {
     "data": {
      "text/html": [
       "<div>\n",
       "<style scoped>\n",
       "    .dataframe tbody tr th:only-of-type {\n",
       "        vertical-align: middle;\n",
       "    }\n",
       "\n",
       "    .dataframe tbody tr th {\n",
       "        vertical-align: top;\n",
       "    }\n",
       "\n",
       "    .dataframe thead th {\n",
       "        text-align: right;\n",
       "    }\n",
       "</style>\n",
       "<table border=\"1\" class=\"dataframe\">\n",
       "  <thead>\n",
       "    <tr style=\"text-align: right;\">\n",
       "      <th></th>\n",
       "      <th>factory_inspection_fail_rate_30</th>\n",
       "      <th>factory_inspection_fail_rate_60</th>\n",
       "      <th>factory_inspection_fail_rate_90</th>\n",
       "      <th>factory_inspection_fail_rate_120</th>\n",
       "      <th>factory_inspection_fail_rate_150</th>\n",
       "      <th>product_available_quantity</th>\n",
       "      <th>product_ppm_1</th>\n",
       "      <th>product_ppm_2</th>\n",
       "      <th>product_ppm_3</th>\n",
       "      <th>product_ppm_4</th>\n",
       "      <th>...</th>\n",
       "      <th>factory_product_measurement_major_defect_rate_30</th>\n",
       "      <th>factory_product_measurement_major_defect_rate_60</th>\n",
       "      <th>factory_product_measurement_major_defect_rate_90</th>\n",
       "      <th>factory_product_measurement_major_defect_rate_120</th>\n",
       "      <th>factory_product_measurement_major_defect_rate_150</th>\n",
       "      <th>factory_product_measurement_minor_defect_rate_30</th>\n",
       "      <th>factory_product_measurement_minor_defect_rate_60</th>\n",
       "      <th>factory_product_measurement_minor_defect_rate_90</th>\n",
       "      <th>factory_product_measurement_minor_defect_rate_120</th>\n",
       "      <th>factory_product_measurement_minor_defect_rate_150</th>\n",
       "    </tr>\n",
       "  </thead>\n",
       "  <tbody>\n",
       "    <tr>\n",
       "      <th>missing_ratio</th>\n",
       "      <td>0.0</td>\n",
       "      <td>0.0</td>\n",
       "      <td>0.0</td>\n",
       "      <td>0.0</td>\n",
       "      <td>0.0</td>\n",
       "      <td>0.0</td>\n",
       "      <td>0.000000</td>\n",
       "      <td>0.00</td>\n",
       "      <td>0.000000</td>\n",
       "      <td>0.000000</td>\n",
       "      <td>...</td>\n",
       "      <td>0.0</td>\n",
       "      <td>0.0</td>\n",
       "      <td>0.0</td>\n",
       "      <td>0.0</td>\n",
       "      <td>0.0</td>\n",
       "      <td>0.0</td>\n",
       "      <td>0.0</td>\n",
       "      <td>0.0</td>\n",
       "      <td>0.0</td>\n",
       "      <td>0.0</td>\n",
       "    </tr>\n",
       "    <tr>\n",
       "      <th>min</th>\n",
       "      <td>0.0</td>\n",
       "      <td>0.0</td>\n",
       "      <td>0.0</td>\n",
       "      <td>0.0</td>\n",
       "      <td>0.0</td>\n",
       "      <td>5.0</td>\n",
       "      <td>0.000000</td>\n",
       "      <td>0.00</td>\n",
       "      <td>0.066667</td>\n",
       "      <td>0.000000</td>\n",
       "      <td>...</td>\n",
       "      <td>0.0</td>\n",
       "      <td>0.0</td>\n",
       "      <td>0.0</td>\n",
       "      <td>0.0</td>\n",
       "      <td>0.0</td>\n",
       "      <td>0.0</td>\n",
       "      <td>0.0</td>\n",
       "      <td>0.0</td>\n",
       "      <td>0.0</td>\n",
       "      <td>0.0</td>\n",
       "    </tr>\n",
       "    <tr>\n",
       "      <th>lower_quartile</th>\n",
       "      <td>0.0</td>\n",
       "      <td>0.0</td>\n",
       "      <td>0.0</td>\n",
       "      <td>0.0</td>\n",
       "      <td>0.0</td>\n",
       "      <td>1758.5</td>\n",
       "      <td>0.000000</td>\n",
       "      <td>0.00</td>\n",
       "      <td>1.000000</td>\n",
       "      <td>0.000000</td>\n",
       "      <td>...</td>\n",
       "      <td>0.0</td>\n",
       "      <td>0.0</td>\n",
       "      <td>0.0</td>\n",
       "      <td>0.0</td>\n",
       "      <td>0.0</td>\n",
       "      <td>0.0</td>\n",
       "      <td>0.0</td>\n",
       "      <td>0.0</td>\n",
       "      <td>0.0</td>\n",
       "      <td>0.0</td>\n",
       "    </tr>\n",
       "    <tr>\n",
       "      <th>median</th>\n",
       "      <td>0.0</td>\n",
       "      <td>0.0</td>\n",
       "      <td>0.0</td>\n",
       "      <td>0.0</td>\n",
       "      <td>0.0</td>\n",
       "      <td>6390.0</td>\n",
       "      <td>0.000000</td>\n",
       "      <td>0.00</td>\n",
       "      <td>1.000000</td>\n",
       "      <td>0.000000</td>\n",
       "      <td>...</td>\n",
       "      <td>0.0</td>\n",
       "      <td>0.0</td>\n",
       "      <td>0.0</td>\n",
       "      <td>0.0</td>\n",
       "      <td>0.0</td>\n",
       "      <td>0.0</td>\n",
       "      <td>0.0</td>\n",
       "      <td>0.0</td>\n",
       "      <td>0.0</td>\n",
       "      <td>0.0</td>\n",
       "    </tr>\n",
       "    <tr>\n",
       "      <th>upper_quartile</th>\n",
       "      <td>0.0</td>\n",
       "      <td>0.0</td>\n",
       "      <td>0.0</td>\n",
       "      <td>0.0</td>\n",
       "      <td>0.0</td>\n",
       "      <td>18502.5</td>\n",
       "      <td>0.000000</td>\n",
       "      <td>0.00</td>\n",
       "      <td>1.000000</td>\n",
       "      <td>0.000000</td>\n",
       "      <td>...</td>\n",
       "      <td>0.0</td>\n",
       "      <td>0.0</td>\n",
       "      <td>0.0</td>\n",
       "      <td>0.0</td>\n",
       "      <td>0.0</td>\n",
       "      <td>0.0</td>\n",
       "      <td>0.0</td>\n",
       "      <td>0.0</td>\n",
       "      <td>0.0</td>\n",
       "      <td>0.0</td>\n",
       "    </tr>\n",
       "    <tr>\n",
       "      <th>max</th>\n",
       "      <td>1.0</td>\n",
       "      <td>1.0</td>\n",
       "      <td>1.0</td>\n",
       "      <td>1.0</td>\n",
       "      <td>1.0</td>\n",
       "      <td>1220064.0</td>\n",
       "      <td>0.466667</td>\n",
       "      <td>0.75</td>\n",
       "      <td>1.000000</td>\n",
       "      <td>0.285714</td>\n",
       "      <td>...</td>\n",
       "      <td>0.0</td>\n",
       "      <td>0.0</td>\n",
       "      <td>0.0</td>\n",
       "      <td>0.0</td>\n",
       "      <td>0.0</td>\n",
       "      <td>0.0</td>\n",
       "      <td>0.0</td>\n",
       "      <td>0.0</td>\n",
       "      <td>0.0</td>\n",
       "      <td>0.0</td>\n",
       "    </tr>\n",
       "  </tbody>\n",
       "</table>\n",
       "<p>6 rows × 145 columns</p>\n",
       "</div>"
      ],
      "text/plain": [
       "                factory_inspection_fail_rate_30  \\\n",
       "missing_ratio                               0.0   \n",
       "min                                         0.0   \n",
       "lower_quartile                              0.0   \n",
       "median                                      0.0   \n",
       "upper_quartile                              0.0   \n",
       "max                                         1.0   \n",
       "\n",
       "                factory_inspection_fail_rate_60  \\\n",
       "missing_ratio                               0.0   \n",
       "min                                         0.0   \n",
       "lower_quartile                              0.0   \n",
       "median                                      0.0   \n",
       "upper_quartile                              0.0   \n",
       "max                                         1.0   \n",
       "\n",
       "                factory_inspection_fail_rate_90  \\\n",
       "missing_ratio                               0.0   \n",
       "min                                         0.0   \n",
       "lower_quartile                              0.0   \n",
       "median                                      0.0   \n",
       "upper_quartile                              0.0   \n",
       "max                                         1.0   \n",
       "\n",
       "                factory_inspection_fail_rate_120  \\\n",
       "missing_ratio                                0.0   \n",
       "min                                          0.0   \n",
       "lower_quartile                               0.0   \n",
       "median                                       0.0   \n",
       "upper_quartile                               0.0   \n",
       "max                                          1.0   \n",
       "\n",
       "                factory_inspection_fail_rate_150  product_available_quantity  \\\n",
       "missing_ratio                                0.0                         0.0   \n",
       "min                                          0.0                         5.0   \n",
       "lower_quartile                               0.0                      1758.5   \n",
       "median                                       0.0                      6390.0   \n",
       "upper_quartile                               0.0                     18502.5   \n",
       "max                                          1.0                   1220064.0   \n",
       "\n",
       "                product_ppm_1  product_ppm_2  product_ppm_3  product_ppm_4  \\\n",
       "missing_ratio        0.000000           0.00       0.000000       0.000000   \n",
       "min                  0.000000           0.00       0.066667       0.000000   \n",
       "lower_quartile       0.000000           0.00       1.000000       0.000000   \n",
       "median               0.000000           0.00       1.000000       0.000000   \n",
       "upper_quartile       0.000000           0.00       1.000000       0.000000   \n",
       "max                  0.466667           0.75       1.000000       0.285714   \n",
       "\n",
       "                ...  factory_product_measurement_major_defect_rate_30  \\\n",
       "missing_ratio   ...                                               0.0   \n",
       "min             ...                                               0.0   \n",
       "lower_quartile  ...                                               0.0   \n",
       "median          ...                                               0.0   \n",
       "upper_quartile  ...                                               0.0   \n",
       "max             ...                                               0.0   \n",
       "\n",
       "                factory_product_measurement_major_defect_rate_60  \\\n",
       "missing_ratio                                                0.0   \n",
       "min                                                          0.0   \n",
       "lower_quartile                                               0.0   \n",
       "median                                                       0.0   \n",
       "upper_quartile                                               0.0   \n",
       "max                                                          0.0   \n",
       "\n",
       "                factory_product_measurement_major_defect_rate_90  \\\n",
       "missing_ratio                                                0.0   \n",
       "min                                                          0.0   \n",
       "lower_quartile                                               0.0   \n",
       "median                                                       0.0   \n",
       "upper_quartile                                               0.0   \n",
       "max                                                          0.0   \n",
       "\n",
       "                factory_product_measurement_major_defect_rate_120  \\\n",
       "missing_ratio                                                 0.0   \n",
       "min                                                           0.0   \n",
       "lower_quartile                                                0.0   \n",
       "median                                                        0.0   \n",
       "upper_quartile                                                0.0   \n",
       "max                                                           0.0   \n",
       "\n",
       "                factory_product_measurement_major_defect_rate_150  \\\n",
       "missing_ratio                                                 0.0   \n",
       "min                                                           0.0   \n",
       "lower_quartile                                                0.0   \n",
       "median                                                        0.0   \n",
       "upper_quartile                                                0.0   \n",
       "max                                                           0.0   \n",
       "\n",
       "                factory_product_measurement_minor_defect_rate_30  \\\n",
       "missing_ratio                                                0.0   \n",
       "min                                                          0.0   \n",
       "lower_quartile                                               0.0   \n",
       "median                                                       0.0   \n",
       "upper_quartile                                               0.0   \n",
       "max                                                          0.0   \n",
       "\n",
       "                factory_product_measurement_minor_defect_rate_60  \\\n",
       "missing_ratio                                                0.0   \n",
       "min                                                          0.0   \n",
       "lower_quartile                                               0.0   \n",
       "median                                                       0.0   \n",
       "upper_quartile                                               0.0   \n",
       "max                                                          0.0   \n",
       "\n",
       "                factory_product_measurement_minor_defect_rate_90  \\\n",
       "missing_ratio                                                0.0   \n",
       "min                                                          0.0   \n",
       "lower_quartile                                               0.0   \n",
       "median                                                       0.0   \n",
       "upper_quartile                                               0.0   \n",
       "max                                                          0.0   \n",
       "\n",
       "                factory_product_measurement_minor_defect_rate_120  \\\n",
       "missing_ratio                                                 0.0   \n",
       "min                                                           0.0   \n",
       "lower_quartile                                                0.0   \n",
       "median                                                        0.0   \n",
       "upper_quartile                                                0.0   \n",
       "max                                                           0.0   \n",
       "\n",
       "                factory_product_measurement_minor_defect_rate_150  \n",
       "missing_ratio                                                 0.0  \n",
       "min                                                           0.0  \n",
       "lower_quartile                                                0.0  \n",
       "median                                                        0.0  \n",
       "upper_quartile                                                0.0  \n",
       "max                                                           0.0  \n",
       "\n",
       "[6 rows x 145 columns]"
      ]
     },
     "execution_count": 21,
     "metadata": {},
     "output_type": "execute_result"
    }
   ],
   "source": [
    "cols_number = list(X_df.dtypes[X_df.dtypes != object].index)\n",
    "df = X_df[cols_number]\n",
    "def missing_ratio(df):\n",
    "    return (df.isna().mean() * 100).round(1)\n",
    "def lower_quartile(df):\n",
    "    return df.quantile(0.25).round(1)\n",
    "def median(df):\n",
    "    return df.quantile(0.5).round(1)\n",
    "def upper_quartile(df):\n",
    "    return df.quantile(0.75).round(1)\n",
    "df = df.agg([missing_ratio, 'min', lower_quartile, median, upper_quartile, 'max'])\n",
    "df"
   ]
  },
  {
   "cell_type": "markdown",
   "id": "503492bb",
   "metadata": {},
   "source": [
    "- Kiểm tra xem các cột nummeric có bị thiếu giá trị"
   ]
  },
  {
   "cell_type": "code",
   "execution_count": 28,
   "id": "cbd95025",
   "metadata": {},
   "outputs": [
    {
     "data": {
      "text/plain": [
       "False"
      ]
     },
     "execution_count": 28,
     "metadata": {},
     "output_type": "execute_result"
    }
   ],
   "source": [
    "np.any(df.loc['missing_ratio'] > 0)"
   ]
  },
  {
   "cell_type": "markdown",
   "id": "0805c7cf",
   "metadata": {},
   "source": [
    "### Với mỗi cột input có kiểu dữ liệu không phải dạng số, các giá trị được phân bố như thế nào?"
   ]
  },
  {
   "cell_type": "code",
   "execution_count": 47,
   "id": "1d0fbed1",
   "metadata": {},
   "outputs": [
    {
     "data": {
      "text/html": [
       "<div>\n",
       "<style scoped>\n",
       "    .dataframe tbody tr th:only-of-type {\n",
       "        vertical-align: middle;\n",
       "    }\n",
       "\n",
       "    .dataframe tbody tr th {\n",
       "        vertical-align: top;\n",
       "    }\n",
       "\n",
       "    .dataframe thead th {\n",
       "        text-align: right;\n",
       "    }\n",
       "</style>\n",
       "<table border=\"1\" class=\"dataframe\">\n",
       "  <thead>\n",
       "    <tr style=\"text-align: right;\">\n",
       "      <th></th>\n",
       "      <th>hashed_factory_id</th>\n",
       "      <th>country</th>\n",
       "      <th>hashed_type_of_inspection</th>\n",
       "      <th>style_number</th>\n",
       "      <th>item_number</th>\n",
       "      <th>brand_number</th>\n",
       "      <th>hashed_product_line</th>\n",
       "      <th>hashed_product_category</th>\n",
       "      <th>hashed_product_id</th>\n",
       "    </tr>\n",
       "  </thead>\n",
       "  <tbody>\n",
       "    <tr>\n",
       "      <th>missing_ratio</th>\n",
       "      <td>0.0</td>\n",
       "      <td>0.5</td>\n",
       "      <td>0.5</td>\n",
       "      <td>0.5</td>\n",
       "      <td>0.4</td>\n",
       "      <td>0.4</td>\n",
       "      <td>0.4</td>\n",
       "      <td>0.5</td>\n",
       "      <td>0.0</td>\n",
       "    </tr>\n",
       "    <tr>\n",
       "      <th>num_values</th>\n",
       "      <td>315</td>\n",
       "      <td>77</td>\n",
       "      <td>71</td>\n",
       "      <td>75</td>\n",
       "      <td>180</td>\n",
       "      <td>52</td>\n",
       "      <td>55</td>\n",
       "      <td>95</td>\n",
       "      <td>125</td>\n",
       "    </tr>\n",
       "    <tr>\n",
       "      <th>value_ratios</th>\n",
       "      <td>{'8e0114f5d7c26b37cec7f58a197a93bbc49e14a6': 2.1, 'eb71b01d780141d63504b372bee1ee42f7858358': 2.0, 'e483609c921a0ad7710a772b2e3bd13f401afb3d': 1.9, '4d701e1799c258c07060770fed4563167c3d2d93': 1.7,...</td>\n",
       "      <td>{'Vietnam': 42.2, 'China': 17.8, 'Indonesia': 12.2, 'Bangladesh': 7.7, 'Nicaragua': 4.5, 'Guatemala': 3.6, 'Pakistan': 3.2, 'India': 2.7, 'Cambodia': 2.7, 'Jordan': 1.1, 'Haiti': 1.0, 'Thailand': ...</td>\n",
       "      <td>{'e06d28d1365467625ebfa999328501705a3398bb': 70.0, '7ba31299766426922dbeb7c96b247068252ea5eb': 15.7, '4a31b54c7b1ada762e54a711dc598073de477352': 9.3, '28b2f8071a0bee27a173b310507c0946868183cc': 3....</td>\n",
       "      <td>{'1': 53.9, '2': 24.3, '3': 10.3, '4': 4.9, '5': 2.7, '6': 1.6, '7': 0.7, '8': 0.4, '10': 0.3, '9': 0.2, '12': 0.1, '15': 0.0, '11': 0.0, '18': 0.0, '13': 0.0, 'number_16738': 0.0, 'number_17052':...</td>\n",
       "      <td>{'10': 7.9, '6': 7.6, '12': 7.4, '18': 6.4, '24': 5.5, '20': 4.9, '5': 4.6, '30': 4.4, '15': 3.5, '36': 3.0, '40': 2.5, '11': 2.4, '8': 1.9, '48': 1.6, '4': 1.6, '9': 1.6, '25': 1.5, '42': 1.5, '1...</td>\n",
       "      <td>{'1.0': 94.6, '2.0': 4.5, '3.0': 0.5, '4.0': 0.0, 'number_15020': 0.0, 'number_8329': 0.0, 'number_13830': 0.0, 'number_8218': 0.0, 'number_2444': 0.0, 'number_9802': 0.0, 'number_2440': 0.0, 'num...</td>\n",
       "      <td>{'a8a2b30f8dba82d690db42ce743475f11be31030': 99.2, '7ec24305aabd039523e863b97fc436f600b30b42': 0.2, 'be2793cdd2af9b687e24da064353ecd4681052d2': 0.0, 'f0483f255e0ce2c93d5dfa593f2161b266474869': 0.0...</td>\n",
       "      <td>{'6a812c559943cb2c29da6c739b132c3d4a8905f1': 25.0, '3e320c3e3556eccdfbd52ef5c5ef5e8c87571101': 15.7, 'c67af124d1806581c4ad29dc616db381f5d8e694': 6.7, '174f4586e4ccef9bc5137f310b761274932be8df': 6....</td>\n",
       "      <td>{'28f9ef723778c6d377fc75ac131ed352e708eb21': 12.4, 'e7bad74dd28e94f1daf841c9e59086263524c38d': 6.5, '23748c0065b54b1512899bef390a9a1afff01150': 6.0, '12cd99beee59d3f006dcde774fc030dcab312e74': 5.3...</td>\n",
       "    </tr>\n",
       "  </tbody>\n",
       "</table>\n",
       "</div>"
      ],
      "text/plain": [
       "                                                                                                                                                                                                     hashed_factory_id  \\\n",
       "missing_ratio                                                                                                                                                                                                      0.0   \n",
       "num_values                                                                                                                                                                                                         315   \n",
       "value_ratios   {'8e0114f5d7c26b37cec7f58a197a93bbc49e14a6': 2.1, 'eb71b01d780141d63504b372bee1ee42f7858358': 2.0, 'e483609c921a0ad7710a772b2e3bd13f401afb3d': 1.9, '4d701e1799c258c07060770fed4563167c3d2d93': 1.7,...   \n",
       "\n",
       "                                                                                                                                                                                                               country  \\\n",
       "missing_ratio                                                                                                                                                                                                      0.5   \n",
       "num_values                                                                                                                                                                                                          77   \n",
       "value_ratios   {'Vietnam': 42.2, 'China': 17.8, 'Indonesia': 12.2, 'Bangladesh': 7.7, 'Nicaragua': 4.5, 'Guatemala': 3.6, 'Pakistan': 3.2, 'India': 2.7, 'Cambodia': 2.7, 'Jordan': 1.1, 'Haiti': 1.0, 'Thailand': ...   \n",
       "\n",
       "                                                                                                                                                                                             hashed_type_of_inspection  \\\n",
       "missing_ratio                                                                                                                                                                                                      0.5   \n",
       "num_values                                                                                                                                                                                                          71   \n",
       "value_ratios   {'e06d28d1365467625ebfa999328501705a3398bb': 70.0, '7ba31299766426922dbeb7c96b247068252ea5eb': 15.7, '4a31b54c7b1ada762e54a711dc598073de477352': 9.3, '28b2f8071a0bee27a173b310507c0946868183cc': 3....   \n",
       "\n",
       "                                                                                                                                                                                                          style_number  \\\n",
       "missing_ratio                                                                                                                                                                                                      0.5   \n",
       "num_values                                                                                                                                                                                                          75   \n",
       "value_ratios   {'1': 53.9, '2': 24.3, '3': 10.3, '4': 4.9, '5': 2.7, '6': 1.6, '7': 0.7, '8': 0.4, '10': 0.3, '9': 0.2, '12': 0.1, '15': 0.0, '11': 0.0, '18': 0.0, '13': 0.0, 'number_16738': 0.0, 'number_17052':...   \n",
       "\n",
       "                                                                                                                                                                                                           item_number  \\\n",
       "missing_ratio                                                                                                                                                                                                      0.4   \n",
       "num_values                                                                                                                                                                                                         180   \n",
       "value_ratios   {'10': 7.9, '6': 7.6, '12': 7.4, '18': 6.4, '24': 5.5, '20': 4.9, '5': 4.6, '30': 4.4, '15': 3.5, '36': 3.0, '40': 2.5, '11': 2.4, '8': 1.9, '48': 1.6, '4': 1.6, '9': 1.6, '25': 1.5, '42': 1.5, '1...   \n",
       "\n",
       "                                                                                                                                                                                                          brand_number  \\\n",
       "missing_ratio                                                                                                                                                                                                      0.4   \n",
       "num_values                                                                                                                                                                                                          52   \n",
       "value_ratios   {'1.0': 94.6, '2.0': 4.5, '3.0': 0.5, '4.0': 0.0, 'number_15020': 0.0, 'number_8329': 0.0, 'number_13830': 0.0, 'number_8218': 0.0, 'number_2444': 0.0, 'number_9802': 0.0, 'number_2440': 0.0, 'num...   \n",
       "\n",
       "                                                                                                                                                                                                   hashed_product_line  \\\n",
       "missing_ratio                                                                                                                                                                                                      0.4   \n",
       "num_values                                                                                                                                                                                                          55   \n",
       "value_ratios   {'a8a2b30f8dba82d690db42ce743475f11be31030': 99.2, '7ec24305aabd039523e863b97fc436f600b30b42': 0.2, 'be2793cdd2af9b687e24da064353ecd4681052d2': 0.0, 'f0483f255e0ce2c93d5dfa593f2161b266474869': 0.0...   \n",
       "\n",
       "                                                                                                                                                                                               hashed_product_category  \\\n",
       "missing_ratio                                                                                                                                                                                                      0.5   \n",
       "num_values                                                                                                                                                                                                          95   \n",
       "value_ratios   {'6a812c559943cb2c29da6c739b132c3d4a8905f1': 25.0, '3e320c3e3556eccdfbd52ef5c5ef5e8c87571101': 15.7, 'c67af124d1806581c4ad29dc616db381f5d8e694': 6.7, '174f4586e4ccef9bc5137f310b761274932be8df': 6....   \n",
       "\n",
       "                                                                                                                                                                                                     hashed_product_id  \n",
       "missing_ratio                                                                                                                                                                                                      0.0  \n",
       "num_values                                                                                                                                                                                                         125  \n",
       "value_ratios   {'28f9ef723778c6d377fc75ac131ed352e708eb21': 12.4, 'e7bad74dd28e94f1daf841c9e59086263524c38d': 6.5, '23748c0065b54b1512899bef390a9a1afff01150': 6.0, '12cd99beee59d3f006dcde774fc030dcab312e74': 5.3...  "
      ]
     },
     "execution_count": 47,
     "metadata": {},
     "output_type": "execute_result"
    }
   ],
   "source": [
    "pd.set_option('display.max_colwidth', 200) # Để nhìn rõ hơn\n",
    "obj_cols = list(X_df.dtypes[X_df.dtypes == object].index)\n",
    "df = X_df[obj_cols]\n",
    "def missing_ratio(df):\n",
    "    return (df.isna().mean() * 100).round(1)\n",
    "def num_values(df):\n",
    "    return df.nunique()\n",
    "def value_ratios(c):\n",
    "    return dict((c.value_counts(normalize=True) * 100).round(1))\n",
    "df= df.agg([missing_ratio, num_values, value_ratios])\n",
    "df"
   ]
  },
  {
   "cell_type": "markdown",
   "id": "7553ca56",
   "metadata": {},
   "source": [
    "- Kiểm tra xem các cột *object* có bị thiếu giá trị"
   ]
  },
  {
   "cell_type": "code",
   "execution_count": 35,
   "id": "631d6cbd",
   "metadata": {},
   "outputs": [
    {
     "data": {
      "text/plain": [
       "hashed_factory_id            0.0\n",
       "country                      0.5\n",
       "hashed_type_of_inspection    0.5\n",
       "style_number                 0.6\n",
       "item_number                  0.4\n",
       "brand_number                 0.5\n",
       "hashed_product_line          0.4\n",
       "hashed_product_category      0.5\n",
       "hashed_product_id            0.0\n",
       "Name: missing_ratio, dtype: object"
      ]
     },
     "execution_count": 35,
     "metadata": {},
     "output_type": "execute_result"
    }
   ],
   "source": [
    "df.loc['missing_ratio'] "
   ]
  },
  {
   "cell_type": "markdown",
   "id": "d9c625bb",
   "metadata": {},
   "source": [
    "- Đa số cột object có thiếu giá trị, tỷ lệ không nhiều lắm."
   ]
  },
  {
   "cell_type": "markdown",
   "id": "2f5eedee",
   "metadata": {},
   "source": [
    "## Phần 4: Tiền xử lý (tập huấn luyện)"
   ]
  },
  {
   "cell_type": "markdown",
   "id": "cf9e74dc",
   "metadata": {},
   "source": [
    "### Ta tiến hành tiền xử lý như sau:\n"
   ]
  },
  {
   "cell_type": "markdown",
   "id": "77ff693c",
   "metadata": {},
   "source": [
    "### Các bước tiền xử lý tiếp theo như sau:\n",
    "\n",
    " - Với các cột dạng số, ta sẽ điền giá trị thiếu bằng giá trị mean của cột.\n",
    " - Với các cột không phải dạng số ta sẽ điền giá trị thiếu bằng giá trị mode (giá trị xuất hiện nhiều nhất) của cột. Sau đó, ta sẽ chuyển sang dạng số bằng phương pháp mã hóa one-hot (vì các cột này đều có dạng nominal).\n",
    " - Cuối cùng, khi tất cả các cột đã được điền giá trị thiếu và đã có dạng số, ta sẽ tiến hành chuẩn hóa."
   ]
  },
  {
   "cell_type": "code",
   "execution_count": 48,
   "id": "b30c5887",
   "metadata": {},
   "outputs": [],
   "source": [
    "unorder_cate_cols = obj_cols\n",
    "\n",
    "#unorder_cate_cols = []\n",
    "\n",
    "mode_ordercols = SimpleImputer(missing_values = np.nan, strategy = 'most_frequent')\n",
    "mode_unordercols = make_pipeline(mode_ordercols, OneHotEncoder(handle_unknown='ignore'))\n",
    "\n",
    "col_transform = ColumnTransformer([('unorder_cate_cols', mode_unordercols, unorder_cate_cols)],remainder='passthrough')\n",
    "scale = StandardScaler(with_mean=False)\n",
    "preprocess_pipeline = make_pipeline(col_transform, scale)"
   ]
  },
  {
   "cell_type": "markdown",
   "id": "ae759874",
   "metadata": {},
   "source": [
    "## Phần 5: Tiền xử lý + mô hình hóa"
   ]
  },
  {
   "cell_type": "markdown",
   "id": "a6d8f1df",
   "metadata": {},
   "source": [
    "### Tìm mô hình tốt nhất"
   ]
  },
  {
   "cell_type": "markdown",
   "id": "283cea83",
   "metadata": {},
   "source": [
    "- Sử dụng độ do F1-weighted cho mô hình phân loại dữ liệu mất cân bằng."
   ]
  },
  {
   "cell_type": "markdown",
   "id": "7064b225",
   "metadata": {},
   "source": [
    "## 1. Mô hình LightGBM"
   ]
  },
  {
   "cell_type": "code",
   "execution_count": 74,
   "id": "3a2ad675",
   "metadata": {},
   "outputs": [],
   "source": [
    "from sklearn.model_selection import cross_val_score\n",
    "from sklearn.ensemble import BaggingClassifier\n",
    "\n",
    "model = lgb.LGBMClassifier(class_weight={0: 1.5, 1: 5.5}, random_state = 15)  #Phạt mô hình ở class_weight\n",
    "tuned_parameters  = {'num_leaves': [29,30,31], \n",
    "                    'n_estimators': [120,150,180]}\n",
    "param_grid = GridSearchCV(model, tuned_parameters, cv =5)\n",
    "clf = make_pipeline(preprocess_pipeline, param_grid)"
   ]
  },
  {
   "cell_type": "code",
   "execution_count": 64,
   "id": "70575cdf",
   "metadata": {},
   "outputs": [
    {
     "data": {
      "text/plain": [
       "0.9446119218876948"
      ]
     },
     "execution_count": 64,
     "metadata": {},
     "output_type": "execute_result"
    }
   ],
   "source": [
    "clf.fit(X_df, y_sr)\n",
    "param_grid.best_score_"
   ]
  },
  {
   "cell_type": "code",
   "execution_count": 67,
   "id": "6a5b7e27",
   "metadata": {},
   "outputs": [
    {
     "data": {
      "text/html": [
       "<style>#sk-1e96bedb-1b60-4cf3-940f-673c40b6b2d9 {color: black;background-color: white;}#sk-1e96bedb-1b60-4cf3-940f-673c40b6b2d9 pre{padding: 0;}#sk-1e96bedb-1b60-4cf3-940f-673c40b6b2d9 div.sk-toggleable {background-color: white;}#sk-1e96bedb-1b60-4cf3-940f-673c40b6b2d9 label.sk-toggleable__label {cursor: pointer;display: block;width: 100%;margin-bottom: 0;padding: 0.3em;box-sizing: border-box;text-align: center;}#sk-1e96bedb-1b60-4cf3-940f-673c40b6b2d9 div.sk-toggleable__content {max-height: 0;max-width: 0;overflow: hidden;text-align: left;background-color: #f0f8ff;}#sk-1e96bedb-1b60-4cf3-940f-673c40b6b2d9 div.sk-toggleable__content pre {margin: 0.2em;color: black;border-radius: 0.25em;background-color: #f0f8ff;}#sk-1e96bedb-1b60-4cf3-940f-673c40b6b2d9 input.sk-toggleable__control:checked~div.sk-toggleable__content {max-height: 200px;max-width: 100%;overflow: auto;}#sk-1e96bedb-1b60-4cf3-940f-673c40b6b2d9 div.sk-estimator input.sk-toggleable__control:checked~label.sk-toggleable__label {background-color: #d4ebff;}#sk-1e96bedb-1b60-4cf3-940f-673c40b6b2d9 div.sk-label input.sk-toggleable__control:checked~label.sk-toggleable__label {background-color: #d4ebff;}#sk-1e96bedb-1b60-4cf3-940f-673c40b6b2d9 input.sk-hidden--visually {border: 0;clip: rect(1px 1px 1px 1px);clip: rect(1px, 1px, 1px, 1px);height: 1px;margin: -1px;overflow: hidden;padding: 0;position: absolute;width: 1px;}#sk-1e96bedb-1b60-4cf3-940f-673c40b6b2d9 div.sk-estimator {font-family: monospace;background-color: #f0f8ff;border: 1px dotted black;border-radius: 0.25em;box-sizing: border-box;margin-bottom: 0.5em;}#sk-1e96bedb-1b60-4cf3-940f-673c40b6b2d9 div.sk-estimator:hover {background-color: #d4ebff;}#sk-1e96bedb-1b60-4cf3-940f-673c40b6b2d9 div.sk-parallel-item::after {content: \"\";width: 100%;border-bottom: 1px solid gray;flex-grow: 1;}#sk-1e96bedb-1b60-4cf3-940f-673c40b6b2d9 div.sk-label:hover label.sk-toggleable__label {background-color: #d4ebff;}#sk-1e96bedb-1b60-4cf3-940f-673c40b6b2d9 div.sk-serial::before {content: \"\";position: absolute;border-left: 1px solid gray;box-sizing: border-box;top: 2em;bottom: 0;left: 50%;}#sk-1e96bedb-1b60-4cf3-940f-673c40b6b2d9 div.sk-serial {display: flex;flex-direction: column;align-items: center;background-color: white;padding-right: 0.2em;padding-left: 0.2em;}#sk-1e96bedb-1b60-4cf3-940f-673c40b6b2d9 div.sk-item {z-index: 1;}#sk-1e96bedb-1b60-4cf3-940f-673c40b6b2d9 div.sk-parallel {display: flex;align-items: stretch;justify-content: center;background-color: white;}#sk-1e96bedb-1b60-4cf3-940f-673c40b6b2d9 div.sk-parallel::before {content: \"\";position: absolute;border-left: 1px solid gray;box-sizing: border-box;top: 2em;bottom: 0;left: 50%;}#sk-1e96bedb-1b60-4cf3-940f-673c40b6b2d9 div.sk-parallel-item {display: flex;flex-direction: column;position: relative;background-color: white;}#sk-1e96bedb-1b60-4cf3-940f-673c40b6b2d9 div.sk-parallel-item:first-child::after {align-self: flex-end;width: 50%;}#sk-1e96bedb-1b60-4cf3-940f-673c40b6b2d9 div.sk-parallel-item:last-child::after {align-self: flex-start;width: 50%;}#sk-1e96bedb-1b60-4cf3-940f-673c40b6b2d9 div.sk-parallel-item:only-child::after {width: 0;}#sk-1e96bedb-1b60-4cf3-940f-673c40b6b2d9 div.sk-dashed-wrapped {border: 1px dashed gray;margin: 0 0.4em 0.5em 0.4em;box-sizing: border-box;padding-bottom: 0.4em;background-color: white;position: relative;}#sk-1e96bedb-1b60-4cf3-940f-673c40b6b2d9 div.sk-label label {font-family: monospace;font-weight: bold;background-color: white;display: inline-block;line-height: 1.2em;}#sk-1e96bedb-1b60-4cf3-940f-673c40b6b2d9 div.sk-label-container {position: relative;z-index: 2;text-align: center;}#sk-1e96bedb-1b60-4cf3-940f-673c40b6b2d9 div.sk-container {display: inline-block;position: relative;}</style><div id=\"sk-1e96bedb-1b60-4cf3-940f-673c40b6b2d9\" class\"sk-top-container\"><div class=\"sk-container\"><div class=\"sk-item\"><div class=\"sk-estimator sk-toggleable\"><input class=\"sk-toggleable__control sk-hidden--visually\" id=\"c318021d-6075-4c7e-bb9e-4e6b63cd8ed4\" type=\"checkbox\" checked><label class=\"sk-toggleable__label\" for=\"c318021d-6075-4c7e-bb9e-4e6b63cd8ed4\">LGBMClassifier</label><div class=\"sk-toggleable__content\"><pre>LGBMClassifier(class_weight={0: 1.5, 1: 5.5}, n_estimators=180, random_state=15)</pre></div></div></div></div></div>"
      ],
      "text/plain": [
       "LGBMClassifier(class_weight={0: 1.5, 1: 5.5}, n_estimators=180, random_state=15)"
      ]
     },
     "execution_count": 67,
     "metadata": {},
     "output_type": "execute_result"
    }
   ],
   "source": [
    "param_grid.best_estimator_"
   ]
  },
  {
   "cell_type": "markdown",
   "id": "ef60af05",
   "metadata": {},
   "source": [
    "## 2. Mô hình 2"
   ]
  },
  {
   "cell_type": "code",
   "execution_count": null,
   "id": "e147dc5d",
   "metadata": {},
   "outputs": [],
   "source": []
  },
  {
   "cell_type": "code",
   "execution_count": null,
   "id": "ec935ffe",
   "metadata": {},
   "outputs": [],
   "source": []
  },
  {
   "cell_type": "code",
   "execution_count": null,
   "id": "85557cb0",
   "metadata": {},
   "outputs": [],
   "source": []
  },
  {
   "cell_type": "code",
   "execution_count": null,
   "id": "1d92a401",
   "metadata": {},
   "outputs": [],
   "source": []
  },
  {
   "cell_type": "code",
   "execution_count": null,
   "id": "7383a2f1",
   "metadata": {},
   "outputs": [],
   "source": []
  },
  {
   "cell_type": "markdown",
   "id": "d28ee6ab",
   "metadata": {},
   "source": [
    "#### Độ chính xác trên tập test sau khi chọn model tốt nhất"
   ]
  },
  {
   "cell_type": "code",
   "execution_count": 73,
   "id": "affb42ef",
   "metadata": {},
   "outputs": [
    {
     "name": "stdout",
     "output_type": "stream",
     "text": [
      "0.9314530817401838\n"
     ]
    }
   ],
   "source": [
    "clf = make_pipeline(preprocess_pipeline, param_grid.best_estimator_)\n",
    "clf.fit(X_df, y_sr)\n",
    "print(f1_score(test_sr, clf.predict(test_df), average='weighted'))"
   ]
  },
  {
   "cell_type": "markdown",
   "id": "862b4669",
   "metadata": {},
   "source": [
    "## Phần 6: Nhìn lại quá trình làm đồ án\n",
    "* Khó khăn\n",
    "* Những điều hữu ích học được\n",
    "\n",
    "* Những dự định nếu có thời gian thêm\n"
   ]
  },
  {
   "cell_type": "markdown",
   "id": "77bbad81",
   "metadata": {},
   "source": [
    "## Phần 7: Tài liệu tham khảo"
   ]
  },
  {
   "cell_type": "markdown",
   "id": "d49582a7",
   "metadata": {},
   "source": [
    "- Google.com"
   ]
  }
 ],
 "metadata": {
  "kernelspec": {
   "display_name": "Python 3 (ipykernel)",
   "language": "python",
   "name": "python3"
  },
  "language_info": {
   "codemirror_mode": {
    "name": "ipython",
    "version": 3
   },
   "file_extension": ".py",
   "mimetype": "text/x-python",
   "name": "python",
   "nbconvert_exporter": "python",
   "pygments_lexer": "ipython3",
   "version": "3.8.8rc1"
  }
 },
 "nbformat": 4,
 "nbformat_minor": 5
}
