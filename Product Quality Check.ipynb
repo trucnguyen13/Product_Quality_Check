{
 "cells": [
  {
   "cell_type": "code",
   "execution_count": 1,
   "id": "4eb750b8",
   "metadata": {},
   "outputs": [],
   "source": [
    "%matplotlib inline\n",
    "import matplotlib.pyplot as plt\n",
    "import seaborn as sns # seaborn là thư viện được xây trên matplotlib, giúp việc visualization đỡ khổ hơn\n",
    "import pandas as pd\n",
    "import numpy as np\n",
    "import math\n",
    "\n",
    "\n",
    "import warnings\n",
    "from sklearn.preprocessing import StandardScaler\n",
    "from sklearn.model_selection import train_test_split\n",
    "from sklearn.preprocessing import OneHotEncoder, StandardScaler\n",
    "from sklearn.impute import SimpleImputer\n",
    "from sklearn.base import BaseEstimator, TransformerMixin\n",
    "from sklearn.pipeline import Pipeline, make_pipeline\n",
    "from sklearn.compose import ColumnTransformer, make_column_transformer\n",
    "from sklearn import set_config\n",
    "from sklearn.metrics import f1_score\n",
    "import lightgbm as lgb\n",
    "set_config(display='diagram') # Để trực quan hóa pipeline\n",
    "\n",
    "# You can also import other things ...\n",
    "# YOUR CODE HERE (OPTION)"
   ]
  },
  {
   "cell_type": "markdown",
   "id": "e74b5525",
   "metadata": {},
   "source": [
    "## Thông tin bảng"
   ]
  },
  {
   "cell_type": "code",
   "execution_count": 2,
   "id": "de320e5d",
   "metadata": {},
   "outputs": [
    {
     "data": {
      "text/html": [
       "<div>\n",
       "<style scoped>\n",
       "    .dataframe tbody tr th:only-of-type {\n",
       "        vertical-align: middle;\n",
       "    }\n",
       "\n",
       "    .dataframe tbody tr th {\n",
       "        vertical-align: top;\n",
       "    }\n",
       "\n",
       "    .dataframe thead th {\n",
       "        text-align: right;\n",
       "    }\n",
       "</style>\n",
       "<table border=\"1\" class=\"dataframe\">\n",
       "  <thead>\n",
       "    <tr style=\"text-align: right;\">\n",
       "      <th></th>\n",
       "      <th>hashed_factory_id</th>\n",
       "      <th>country</th>\n",
       "      <th>hashed_type_of_inspection</th>\n",
       "      <th>style_number</th>\n",
       "      <th>item_number</th>\n",
       "      <th>brand_number</th>\n",
       "      <th>factory_inspection_fail_rate_30</th>\n",
       "      <th>factory_inspection_fail_rate_60</th>\n",
       "      <th>factory_inspection_fail_rate_90</th>\n",
       "      <th>factory_inspection_fail_rate_120</th>\n",
       "      <th>...</th>\n",
       "      <th>factory_product_measurement_major_defect_rate_60</th>\n",
       "      <th>factory_product_measurement_major_defect_rate_90</th>\n",
       "      <th>factory_product_measurement_major_defect_rate_120</th>\n",
       "      <th>factory_product_measurement_major_defect_rate_150</th>\n",
       "      <th>factory_product_measurement_minor_defect_rate_30</th>\n",
       "      <th>factory_product_measurement_minor_defect_rate_60</th>\n",
       "      <th>factory_product_measurement_minor_defect_rate_90</th>\n",
       "      <th>factory_product_measurement_minor_defect_rate_120</th>\n",
       "      <th>factory_product_measurement_minor_defect_rate_150</th>\n",
       "      <th>label</th>\n",
       "    </tr>\n",
       "  </thead>\n",
       "  <tbody>\n",
       "    <tr>\n",
       "      <th>0</th>\n",
       "      <td>009f006e3799f9fe96a0c95e944df3e669f02d4e</td>\n",
       "      <td>Vietnam</td>\n",
       "      <td>e06d28d1365467625ebfa999328501705a3398bb</td>\n",
       "      <td>1</td>\n",
       "      <td>8</td>\n",
       "      <td>1.0</td>\n",
       "      <td>0.0</td>\n",
       "      <td>0.032258</td>\n",
       "      <td>0.028571</td>\n",
       "      <td>0.027778</td>\n",
       "      <td>...</td>\n",
       "      <td>0.0</td>\n",
       "      <td>0.0</td>\n",
       "      <td>0.0</td>\n",
       "      <td>0.0</td>\n",
       "      <td>0.0</td>\n",
       "      <td>0.0</td>\n",
       "      <td>0.0</td>\n",
       "      <td>0.0</td>\n",
       "      <td>0.0</td>\n",
       "      <td>0</td>\n",
       "    </tr>\n",
       "    <tr>\n",
       "      <th>1</th>\n",
       "      <td>a9f2640fbd054cb52bf9411b7a42f668a9613197</td>\n",
       "      <td>Vietnam</td>\n",
       "      <td>e06d28d1365467625ebfa999328501705a3398bb</td>\n",
       "      <td>1</td>\n",
       "      <td>5</td>\n",
       "      <td>1.0</td>\n",
       "      <td>0.0</td>\n",
       "      <td>0.200000</td>\n",
       "      <td>0.035714</td>\n",
       "      <td>0.020408</td>\n",
       "      <td>...</td>\n",
       "      <td>0.0</td>\n",
       "      <td>0.0</td>\n",
       "      <td>0.0</td>\n",
       "      <td>0.0</td>\n",
       "      <td>0.0</td>\n",
       "      <td>0.0</td>\n",
       "      <td>0.0</td>\n",
       "      <td>0.0</td>\n",
       "      <td>0.0</td>\n",
       "      <td>0</td>\n",
       "    </tr>\n",
       "    <tr>\n",
       "      <th>2</th>\n",
       "      <td>c0bffcf0318c483b2dbb1c56bed6efa58f9717bd</td>\n",
       "      <td>Pakistan</td>\n",
       "      <td>e06d28d1365467625ebfa999328501705a3398bb</td>\n",
       "      <td>1</td>\n",
       "      <td>8</td>\n",
       "      <td>NaN</td>\n",
       "      <td>0.0</td>\n",
       "      <td>0.000000</td>\n",
       "      <td>0.000000</td>\n",
       "      <td>0.000000</td>\n",
       "      <td>...</td>\n",
       "      <td>0.0</td>\n",
       "      <td>0.0</td>\n",
       "      <td>0.0</td>\n",
       "      <td>0.0</td>\n",
       "      <td>0.0</td>\n",
       "      <td>0.0</td>\n",
       "      <td>0.0</td>\n",
       "      <td>0.0</td>\n",
       "      <td>0.0</td>\n",
       "      <td>0</td>\n",
       "    </tr>\n",
       "    <tr>\n",
       "      <th>3</th>\n",
       "      <td>c96f3f1c47dca83af551893a28c3409cb4afd31d</td>\n",
       "      <td>Guatemala</td>\n",
       "      <td>e06d28d1365467625ebfa999328501705a3398bb</td>\n",
       "      <td>2</td>\n",
       "      <td>12</td>\n",
       "      <td>1.0</td>\n",
       "      <td>0.0</td>\n",
       "      <td>0.000000</td>\n",
       "      <td>0.000000</td>\n",
       "      <td>0.000000</td>\n",
       "      <td>...</td>\n",
       "      <td>0.0</td>\n",
       "      <td>0.0</td>\n",
       "      <td>0.0</td>\n",
       "      <td>0.0</td>\n",
       "      <td>0.0</td>\n",
       "      <td>0.0</td>\n",
       "      <td>0.0</td>\n",
       "      <td>0.0</td>\n",
       "      <td>0.0</td>\n",
       "      <td>0</td>\n",
       "    </tr>\n",
       "    <tr>\n",
       "      <th>4</th>\n",
       "      <td>63ffdba896c8bb150eca939d1eb7e3bd4e732ed4</td>\n",
       "      <td>Pakistan</td>\n",
       "      <td>e06d28d1365467625ebfa999328501705a3398bb</td>\n",
       "      <td>1</td>\n",
       "      <td>2</td>\n",
       "      <td>1.0</td>\n",
       "      <td>0.0</td>\n",
       "      <td>0.000000</td>\n",
       "      <td>0.000000</td>\n",
       "      <td>0.100000</td>\n",
       "      <td>...</td>\n",
       "      <td>0.0</td>\n",
       "      <td>0.0</td>\n",
       "      <td>0.0</td>\n",
       "      <td>0.0</td>\n",
       "      <td>0.0</td>\n",
       "      <td>0.0</td>\n",
       "      <td>0.0</td>\n",
       "      <td>0.0</td>\n",
       "      <td>0.0</td>\n",
       "      <td>0</td>\n",
       "    </tr>\n",
       "  </tbody>\n",
       "</table>\n",
       "<p>5 rows × 155 columns</p>\n",
       "</div>"
      ],
      "text/plain": [
       "                          hashed_factory_id    country  \\\n",
       "0  009f006e3799f9fe96a0c95e944df3e669f02d4e    Vietnam   \n",
       "1  a9f2640fbd054cb52bf9411b7a42f668a9613197    Vietnam   \n",
       "2  c0bffcf0318c483b2dbb1c56bed6efa58f9717bd   Pakistan   \n",
       "3  c96f3f1c47dca83af551893a28c3409cb4afd31d  Guatemala   \n",
       "4  63ffdba896c8bb150eca939d1eb7e3bd4e732ed4   Pakistan   \n",
       "\n",
       "                  hashed_type_of_inspection style_number item_number  \\\n",
       "0  e06d28d1365467625ebfa999328501705a3398bb            1           8   \n",
       "1  e06d28d1365467625ebfa999328501705a3398bb            1           5   \n",
       "2  e06d28d1365467625ebfa999328501705a3398bb            1           8   \n",
       "3  e06d28d1365467625ebfa999328501705a3398bb            2          12   \n",
       "4  e06d28d1365467625ebfa999328501705a3398bb            1           2   \n",
       "\n",
       "  brand_number  factory_inspection_fail_rate_30  \\\n",
       "0          1.0                              0.0   \n",
       "1          1.0                              0.0   \n",
       "2          NaN                              0.0   \n",
       "3          1.0                              0.0   \n",
       "4          1.0                              0.0   \n",
       "\n",
       "   factory_inspection_fail_rate_60  factory_inspection_fail_rate_90  \\\n",
       "0                         0.032258                         0.028571   \n",
       "1                         0.200000                         0.035714   \n",
       "2                         0.000000                         0.000000   \n",
       "3                         0.000000                         0.000000   \n",
       "4                         0.000000                         0.000000   \n",
       "\n",
       "   factory_inspection_fail_rate_120  ...  \\\n",
       "0                          0.027778  ...   \n",
       "1                          0.020408  ...   \n",
       "2                          0.000000  ...   \n",
       "3                          0.000000  ...   \n",
       "4                          0.100000  ...   \n",
       "\n",
       "   factory_product_measurement_major_defect_rate_60  \\\n",
       "0                                               0.0   \n",
       "1                                               0.0   \n",
       "2                                               0.0   \n",
       "3                                               0.0   \n",
       "4                                               0.0   \n",
       "\n",
       "  factory_product_measurement_major_defect_rate_90  \\\n",
       "0                                              0.0   \n",
       "1                                              0.0   \n",
       "2                                              0.0   \n",
       "3                                              0.0   \n",
       "4                                              0.0   \n",
       "\n",
       "  factory_product_measurement_major_defect_rate_120  \\\n",
       "0                                               0.0   \n",
       "1                                               0.0   \n",
       "2                                               0.0   \n",
       "3                                               0.0   \n",
       "4                                               0.0   \n",
       "\n",
       "  factory_product_measurement_major_defect_rate_150  \\\n",
       "0                                               0.0   \n",
       "1                                               0.0   \n",
       "2                                               0.0   \n",
       "3                                               0.0   \n",
       "4                                               0.0   \n",
       "\n",
       "   factory_product_measurement_minor_defect_rate_30  \\\n",
       "0                                               0.0   \n",
       "1                                               0.0   \n",
       "2                                               0.0   \n",
       "3                                               0.0   \n",
       "4                                               0.0   \n",
       "\n",
       "   factory_product_measurement_minor_defect_rate_60  \\\n",
       "0                                               0.0   \n",
       "1                                               0.0   \n",
       "2                                               0.0   \n",
       "3                                               0.0   \n",
       "4                                               0.0   \n",
       "\n",
       "   factory_product_measurement_minor_defect_rate_90  \\\n",
       "0                                               0.0   \n",
       "1                                               0.0   \n",
       "2                                               0.0   \n",
       "3                                               0.0   \n",
       "4                                               0.0   \n",
       "\n",
       "   factory_product_measurement_minor_defect_rate_120  \\\n",
       "0                                                0.0   \n",
       "1                                                0.0   \n",
       "2                                                0.0   \n",
       "3                                                0.0   \n",
       "4                                                0.0   \n",
       "\n",
       "   factory_product_measurement_minor_defect_rate_150  label  \n",
       "0                                                0.0      0  \n",
       "1                                                0.0      0  \n",
       "2                                                0.0      0  \n",
       "3                                                0.0      0  \n",
       "4                                                0.0      0  \n",
       "\n",
       "[5 rows x 155 columns]"
      ]
     },
     "execution_count": 2,
     "metadata": {},
     "output_type": "execute_result"
    }
   ],
   "source": [
    "data_df = pd.read_csv('practice_data.csv', index_col=0).reset_index(drop=True)\n",
    "data_df.head(5)"
   ]
  },
  {
   "cell_type": "code",
   "execution_count": 3,
   "id": "ed14e331",
   "metadata": {},
   "outputs": [
    {
     "data": {
      "text/plain": [
       "(13293, 155)"
      ]
     },
     "execution_count": 3,
     "metadata": {},
     "output_type": "execute_result"
    }
   ],
   "source": [
    "data_df.shape"
   ]
  },
  {
   "cell_type": "markdown",
   "id": "b8107923",
   "metadata": {},
   "source": [
    "## Phân tích dữ liệu"
   ]
  },
  {
   "cell_type": "code",
   "execution_count": null,
   "id": "1b5efcff",
   "metadata": {},
   "outputs": [],
   "source": []
  },
  {
   "cell_type": "code",
   "execution_count": null,
   "id": "aec19d57",
   "metadata": {},
   "outputs": [],
   "source": []
  },
  {
   "cell_type": "code",
   "execution_count": null,
   "id": "d8afbccc",
   "metadata": {},
   "outputs": [],
   "source": []
  },
  {
   "cell_type": "code",
   "execution_count": null,
   "id": "52ec6c8a",
   "metadata": {},
   "outputs": [],
   "source": []
  },
  {
   "cell_type": "markdown",
   "id": "053f0485",
   "metadata": {},
   "source": [
    "## Tách train/validation/test: 72/18/10"
   ]
  },
  {
   "cell_type": "code",
   "execution_count": 4,
   "id": "3cf2333f",
   "metadata": {},
   "outputs": [],
   "source": [
    "# Tách X và y\n",
    "y_sr = data_df[\"label\"] # sr là viết tắt của series\n",
    "X_df = data_df.drop(\"label\", axis=1)\n",
    "\n",
    "# train /  test\n",
    "X_df, test_df, y_sr, test_sr = train_test_split(X_df, y_sr, test_size=0.1, \n",
    "                                                              stratify=y_sr, random_state=15)\n",
    "# train / val\n",
    "X_df, val_df, y_sr, val_sr = train_test_split(X_df, y_sr, test_size=0.2, \n",
    "                                                              stratify=y_sr, random_state=15)"
   ]
  },
  {
   "cell_type": "code",
   "execution_count": 5,
   "id": "4b247603",
   "metadata": {},
   "outputs": [
    {
     "data": {
      "text/plain": [
       "((9570, 154), (2393, 154), (1330, 154))"
      ]
     },
     "execution_count": 5,
     "metadata": {},
     "output_type": "execute_result"
    }
   ],
   "source": [
    "X_df.shape, val_df.shape, test_df.shape"
   ]
  },
  {
   "cell_type": "markdown",
   "id": "122ad64f",
   "metadata": {},
   "source": [
    "### Cột object"
   ]
  },
  {
   "cell_type": "code",
   "execution_count": 6,
   "id": "9c2c1c28",
   "metadata": {},
   "outputs": [
    {
     "data": {
      "text/plain": [
       "['hashed_factory_id',\n",
       " 'country',\n",
       " 'hashed_type_of_inspection',\n",
       " 'style_number',\n",
       " 'item_number',\n",
       " 'brand_number',\n",
       " 'hashed_product_line',\n",
       " 'hashed_product_category',\n",
       " 'hashed_product_id']"
      ]
     },
     "execution_count": 6,
     "metadata": {},
     "output_type": "execute_result"
    }
   ],
   "source": [
    "obj_cols = list(data_df.dtypes[data_df.dtypes == object].index)\n",
    "obj_cols"
   ]
  },
  {
   "cell_type": "code",
   "execution_count": 7,
   "id": "4d868e45",
   "metadata": {},
   "outputs": [],
   "source": [
    "obj_cols = [\n",
    " 'hashed_factory_id',\n",
    " 'country',\n",
    " 'hashed_type_of_inspection',\n",
    " 'style_number',\n",
    " 'item_number',\n",
    " 'brand_number', #bor\n",
    " 'hashed_product_line', #bor\n",
    " 'hashed_product_category',\n",
    " 'hashed_product_id'\n",
    " ]\n",
    "#data_df.drop(columns=obj_cols, inplace=True)"
   ]
  },
  {
   "cell_type": "markdown",
   "id": "c5d93a11",
   "metadata": {},
   "source": [
    "## Điền giá trị missing, chuyển cột object sang number và chuẩn hóa"
   ]
  },
  {
   "cell_type": "code",
   "execution_count": 8,
   "id": "165464e9",
   "metadata": {},
   "outputs": [],
   "source": [
    "unorder_cate_cols = obj_cols\n",
    "\n",
    "#unorder_cate_cols = []\n",
    "\n",
    "mode_ordercols = SimpleImputer(missing_values = np.nan, strategy = 'most_frequent')\n",
    "mode_unordercols = make_pipeline(mode_ordercols, OneHotEncoder(handle_unknown='ignore'))\n",
    "\n",
    "col_transform = ColumnTransformer([('unorder_cate_cols', mode_unordercols, unorder_cate_cols)],remainder='passthrough')\n",
    "scale = StandardScaler(with_mean=False)\n",
    "preprocess_pipeline = make_pipeline(col_transform, scale)\n",
    "\n",
    "\n",
    "\n",
    "#X_df = preprocess_pipeline.fit_transform(X_df)\n",
    "#test_df = preprocess_pipeline.transform(test_df)\n",
    "#val_df = preprocess_pipeline.transform(val_df)"
   ]
  },
  {
   "cell_type": "markdown",
   "id": "22d28c2a",
   "metadata": {},
   "source": [
    "## Oversampling Technique (SMOTE) (optional)"
   ]
  },
  {
   "cell_type": "code",
   "execution_count": 9,
   "id": "f36408f4",
   "metadata": {},
   "outputs": [],
   "source": [
    "#Oversampling Technique (SMOTE)\n",
    "#from imblearn.over_sampling import SMOTE\n",
    "#smote = SMOTE()\n",
    "#X_df, y_sr = smote.fit_resample(X_df, y_sr)"
   ]
  },
  {
   "cell_type": "markdown",
   "id": "9960ac5d",
   "metadata": {},
   "source": [
    "## Mô hình Light Gradient Boosting, phạt mô hình cho mất cân bằng dữ liệu"
   ]
  },
  {
   "cell_type": "code",
   "execution_count": 10,
   "id": "dd4c6349",
   "metadata": {},
   "outputs": [],
   "source": [
    "from sklearn.model_selection import cross_val_score\n",
    "from sklearn.ensemble import BaggingClassifier\n",
    "\n",
    "\n",
    "clf = lgb.LGBMClassifier(num_leaves = 30, n_estimators=150, class_weight={0: 1.5, 1: 5.5}, random_state = 15)  #Phạt mô hình ở class_weight\n",
    "#clf = BaggingClassifier(base_estimator=clf, n_estimators=10, random_state = 10)\n",
    "clf = make_pipeline(preprocess_pipeline, clf)\n",
    "#clf = make_pipeline(clf)\n",
    "#score = cross_val_score(clf , X = X_df, y = y_sr, cv=5, scoring='f1_weighted')\n",
    "#score.mean()"
   ]
  },
  {
   "cell_type": "code",
   "execution_count": 11,
   "id": "bc059ddb",
   "metadata": {},
   "outputs": [
    {
     "name": "stdout",
     "output_type": "stream",
     "text": [
      "0.9347661924367291\n"
     ]
    }
   ],
   "source": [
    "clf.fit(X_df, y_sr)\n",
    "print(f1_score(val_sr, clf.predict(val_df), average='weighted'))"
   ]
  },
  {
   "cell_type": "markdown",
   "id": "921cadc6",
   "metadata": {},
   "source": [
    "## Val Metric"
   ]
  },
  {
   "cell_type": "code",
   "execution_count": 12,
   "id": "c7e369fe",
   "metadata": {},
   "outputs": [
    {
     "data": {
      "image/png": "[encoded data removed]",
      "text/plain": [
       "<Figure size 432x288 with 2 Axes>"
      ]
     },
     "metadata": {
      "needs_background": "light"
     },
     "output_type": "display_data"
    }
   ],
   "source": [
    "from sklearn.metrics import confusion_matrix\n",
    "cm = confusion_matrix(val_sr, clf.predict(val_df))\n",
    "cm_matrix = pd.DataFrame(data=cm, columns=['Predict Negative:0', 'Predict Positive:1'], \n",
    "                                 index=['Actual Negative:0', 'Actual Positive:1'])\n",
    "_ = sns.heatmap(cm_matrix, annot=True, fmt='d', cmap='YlGnBu')"
   ]
  },
  {
   "cell_type": "markdown",
   "id": "5ae1cede",
   "metadata": {},
   "source": [
    "## Test Metric"
   ]
  },
  {
   "cell_type": "code",
   "execution_count": 13,
   "id": "2b8cdbde",
   "metadata": {},
   "outputs": [
    {
     "data": {
      "image/png": "[encoded data removed]",
      "text/plain": [
       "<Figure size 432x288 with 2 Axes>"
      ]
     },
     "metadata": {
      "needs_background": "light"
     },
     "output_type": "display_data"
    }
   ],
   "source": [
    "from sklearn.metrics import confusion_matrix\n",
    "cm = confusion_matrix(test_sr, clf.predict(test_df))\n",
    "cm_matrix = pd.DataFrame(data=cm, columns=['Predict Negative:0', 'Predict Positive:1'], \n",
    "                                 index=['Actual Negative:0', 'Actual Positive:1'])\n",
    "\n",
    "_ = sns.heatmap(cm_matrix, annot=True, fmt='d', cmap='YlGnBu')"
   ]
  },
  {
   "cell_type": "code",
   "execution_count": null,
   "id": "926b609e",
   "metadata": {},
   "outputs": [],
   "source": []
  }
 ],
 "metadata": {
  "kernelspec": {
   "display_name": "Python 3 (ipykernel)",
   "language": "python",
   "name": "python3"
  },
  "language_info": {
   "codemirror_mode": {
    "name": "ipython",
    "version": 3
   },
   "file_extension": ".py",
   "mimetype": "text/x-python",
   "name": "python",
   "nbconvert_exporter": "python",
   "pygments_lexer": "ipython3",
   "version": "3.8.8rc1"
  }
 },
 "nbformat": 4,
 "nbformat_minor": 5
}
